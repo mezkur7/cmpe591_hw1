{
 "cells": [
  {
   "cell_type": "markdown",
   "metadata": {},
   "source": [
    "Train Part"
   ]
  },
  {
   "cell_type": "code",
   "execution_count": null,
   "metadata": {},
   "outputs": [],
   "source": [
    "import torch\n",
    "from torch.utils.data import Dataset, DataLoader\n",
    "import torch.nn.functional as F\n",
    "import matplotlib.pyplot as plt\n",
    "import numpy as np\n",
    "\n",
    "\n",
    "class PositionDatasetCNN(Dataset):\n",
    "    def __init__(self):\n",
    "        self.actions = torch.cat([torch.load(f\"actions_{i}.pt\") for i in range(4)])\n",
    "        self.positions = torch.cat([torch.load(f\"positions_{i}.pt\") for i in range(4)])\n",
    "        self.imgs = torch.cat([torch.load(f\"imgs_{i}.pt\") for i in range(4)]).float() / 255.0  # Normalize\n",
    "\n",
    "    def __len__(self):\n",
    "        return len(self.positions)\n",
    "\n",
    "    def __getitem__(self, idx):\n",
    "        img = self.imgs[idx]  # (3, 128, 128)\n",
    "        action = F.one_hot(self.actions[idx].long(), num_classes=4).float()  # One-hot encode action\n",
    "        pos = self.positions[idx]  # (x, y)\n",
    "\n",
    "        return img, action, pos\n",
    "\n",
    "\n",
    "# Load dataset\n",
    "cnn_dataset = PositionDatasetCNN()\n",
    "cnn_dataloader = DataLoader(cnn_dataset, batch_size=32, shuffle=True)"
   ]
  },
  {
   "cell_type": "code",
   "execution_count": 2,
   "metadata": {},
   "outputs": [],
   "source": [
    "import torch.nn as nn\n",
    "\n",
    "\n",
    "class CNNPositionModel(nn.Module):\n",
    "    def __init__(self):\n",
    "        super(CNNPositionModel, self).__init__()\n",
    "        self.conv = nn.Sequential(\n",
    "            nn.Conv2d(3, 32, kernel_size=3, stride=1, padding=1),\n",
    "            nn.ReLU(),\n",
    "            nn.MaxPool2d(2, 2),\n",
    "            nn.Conv2d(32, 64, kernel_size=3, stride=1, padding=1),\n",
    "            nn.ReLU(),\n",
    "            nn.MaxPool2d(2, 2),\n",
    "            nn.Conv2d(64, 128, kernel_size=3, stride=1, padding=1),\n",
    "            nn.ReLU(),\n",
    "            nn.MaxPool2d(2, 2)\n",
    "        )\n",
    "\n",
    "        self.fc = nn.Sequential(\n",
    "            nn.Linear(128 * 16 * 16 + 4, 128),  # Flattened CNN features + 4-action\n",
    "            nn.ReLU(),\n",
    "            nn.Linear(128, 64),\n",
    "            nn.ReLU(),\n",
    "            nn.Linear(64, 2)  # Predict (x, y)\n",
    "        )\n",
    "\n",
    "    def forward(self, img, action):\n",
    "        img_features = self.conv(img)  # Extract CNN features\n",
    "        img_features = img_features.view(img_features.size(0), -1)  # Flatten\n",
    "        combined = torch.cat((img_features, action), dim=1)  # Combine image & action\n",
    "        return self.fc(combined)"
   ]
  },
  {
   "cell_type": "code",
   "execution_count": 3,
   "metadata": {},
   "outputs": [
    {
     "name": "stdout",
     "output_type": "stream",
     "text": [
      "Epoch 1, Loss: 0.0249\n",
      "Epoch 2, Loss: 0.0469\n",
      "Epoch 3, Loss: 0.0018\n",
      "Epoch 4, Loss: 0.0009\n",
      "Epoch 5, Loss: 0.0007\n",
      "Epoch 6, Loss: 0.0010\n",
      "Epoch 7, Loss: 0.0004\n",
      "Epoch 8, Loss: 0.0001\n",
      "Epoch 9, Loss: 0.0001\n",
      "Epoch 10, Loss: 0.0001\n"
     ]
    },
    {
     "data": {
      "image/png": "[encoded data removed]",
      "text/plain": [
       "<Figure size 640x480 with 1 Axes>"
      ]
     },
     "metadata": {},
     "output_type": "display_data"
    },
    {
     "name": "stdout",
     "output_type": "stream",
     "text": [
      "CNN model saved as hw1_2.pt!\n"
     ]
    }
   ],
   "source": [
    "import torch.optim as optim\n",
    "\n",
    "# Initialize model, loss function, and optimizer\n",
    "cnn_model = CNNPositionModel()\n",
    "criterion = nn.MSELoss()\n",
    "optimizer = optim.Adam(cnn_model.parameters(), lr=0.001)\n",
    "loss_values = []\n",
    "# Training loop\n",
    "for epoch in range(10):\n",
    "    for img, action, pos in cnn_dataloader:\n",
    "        optimizer.zero_grad()\n",
    "        predictions = cnn_model(img, action)\n",
    "        loss = criterion(predictions, pos)\n",
    "        loss.backward()\n",
    "        optimizer.step()\n",
    "\n",
    "    print(f\"Epoch {epoch+1}, Loss: {loss.item():.4f}\")\n",
    "    loss_values.append(loss.item())\n",
    "\n",
    "# Plot training loss for each epoch\n",
    "plt.plot(range(1, 11), loss_values, marker='o')\n",
    "plt.xlabel('Epoch')\n",
    "plt.ylabel('Loss')\n",
    "plt.title('Training Loss per Epoch')\n",
    "plt.show()\n",
    "\n",
    "# Save trained model\n",
    "torch.save(cnn_model.state_dict(), \"hw1_2.pt\")\n",
    "print(\"CNN model saved as hw1_2.pt!\")"
   ]
  },
  {
   "cell_type": "markdown",
   "metadata": {},
   "source": [
    "Test Part"
   ]
  },
  {
   "cell_type": "code",
   "execution_count": 4,
   "metadata": {},
   "outputs": [
    {
     "name": "stdout",
     "output_type": "stream",
     "text": [
      "\n",
      "Evaluation on Small Test Data:\n",
      "==================================================\n",
      "Sample 1:\n",
      "  Action Taken : 1\n",
      "  True Position: [0.36991575 0.19571164]\n",
      "  Predicted Position: [0.38703912 0.19836642]\n",
      "--------------------------------------------------\n",
      "Sample 2:\n",
      "  Action Taken : 2\n",
      "  True Position: [0.5391285  0.39189452]\n",
      "  Predicted Position: [0.52691984 0.41262683]\n",
      "--------------------------------------------------\n",
      "Sample 3:\n",
      "  Action Taken : 0\n",
      "  True Position: [1.113326   0.02617635]\n",
      "  Predicted Position: [1.1000855  0.04653393]\n",
      "--------------------------------------------------\n",
      "Sample 4:\n",
      "  Action Taken : 1\n",
      "  True Position: [0.37094328 0.19445564]\n",
      "  Predicted Position: [0.38561502 0.1993256 ]\n",
      "--------------------------------------------------\n",
      "Sample 5:\n",
      "  Action Taken : 0\n",
      "  True Position: [ 0.8398705  -0.02811071]\n",
      "  Predicted Position: [ 0.83973885 -0.01551784]\n",
      "--------------------------------------------------\n"
     ]
    }
   ],
   "source": [
    "from homework1 import Hw1Env\n",
    "\n",
    "\n",
    "def generate_test_data(N=5):\n",
    "    \"\"\"Mimics the main function but generates fewer samples for testing.\"\"\"\n",
    "    env = Hw1Env(render_mode=\"offscreen\")\n",
    "    positions = torch.zeros(N, 2, dtype=torch.float)\n",
    "    actions = torch.zeros(N, dtype=torch.uint8)\n",
    "    imgs = torch.zeros(N, 3, 128, 128, dtype=torch.uint8)\n",
    "\n",
    "    for i in range(N):\n",
    "        action_id = torch.randint(0, 4, (1,)).item()  # Random action\n",
    "        env.step(action_id)\n",
    "        obj_pos, pixels = env.state()\n",
    "\n",
    "        positions[i] = torch.tensor(obj_pos)\n",
    "        actions[i] = action_id\n",
    "        imgs[i] = pixels\n",
    "        env.reset()\n",
    "\n",
    "    return actions, imgs, positions\n",
    "\n",
    "\n",
    "# Generate test data\n",
    "test_actions, test_imgs, test_positions = generate_test_data(N=5)\n",
    "\n",
    "# Load trained model\n",
    "cnn_model = CNNPositionModel()\n",
    "cnn_model.load_state_dict(torch.load(\"hw1_2.pt\"))\n",
    "cnn_model.eval()\n",
    "\n",
    "# Evaluate model\n",
    "with torch.no_grad():\n",
    "    print(\"\\nEvaluation on Small Test Data:\")\n",
    "    print(\"=\" * 50)\n",
    "\n",
    "    for i in range(len(test_actions)):\n",
    "        action_tensor = F.one_hot(test_actions[i].long(), num_classes=4).float()\n",
    "        img_tensor = test_imgs[i].float() / 255.0  # Normalize image\n",
    "\n",
    "        # Predict position\n",
    "        predicted_pos = cnn_model(img_tensor.unsqueeze(0), action_tensor.unsqueeze(0)).squeeze(0)\n",
    "\n",
    "        print(f\"Sample {i+1}:\")\n",
    "        print(f\"  Action Taken : {test_actions[i].item()}\")\n",
    "        print(f\"  True Position: {test_positions[i].numpy()}\")\n",
    "        print(f\"  Predicted Position: {predicted_pos.numpy()}\")\n",
    "        print(\"-\" * 50)"
   ]
  }
 ],
 "metadata": {
  "kernelspec": {
   "display_name": "cmpe591",
   "language": "python",
   "name": "python3"
  },
  "language_info": {
   "codemirror_mode": {
    "name": "ipython",
    "version": 3
   },
   "file_extension": ".py",
   "mimetype": "text/x-python",
   "name": "python",
   "nbconvert_exporter": "python",
   "pygments_lexer": "ipython3",
   "version": "3.9.21"
  }
 },
 "nbformat": 4,
 "nbformat_minor": 2
}
